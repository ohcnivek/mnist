{
 "cells": [
  {
   "cell_type": "code",
   "execution_count": 10,
   "id": "f05330af",
   "metadata": {
    "_cell_guid": "b1076dfc-b9ad-4769-8c92-a6c4dae69d19",
    "_uuid": "8f2839f25d086af736a60e9eeb907d3b93b6e0e5",
    "execution": {
     "iopub.execute_input": "2022-12-11T06:44:48.172295Z",
     "iopub.status.busy": "2022-12-11T06:44:48.171850Z",
     "iopub.status.idle": "2022-12-11T06:44:51.912307Z",
     "shell.execute_reply": "2022-12-11T06:44:51.911154Z"
    },
    "papermill": {
     "duration": 3.75011,
     "end_time": "2022-12-11T06:44:51.915159",
     "exception": false,
     "start_time": "2022-12-11T06:44:48.165049",
     "status": "completed"
    },
    "tags": []
   },
   "outputs": [],
   "source": [
    "import numpy as np\n",
    "import pandas as pd\n",
    "from matplotlib import pyplot as plt\n",
    "\n",
    "raw_data_train = pd.read_csv('./data/train.csv')\n",
    "raw_data_test = pd.read_csv('./data/test.csv')"
   ]
  },
  {
   "cell_type": "code",
   "execution_count": 11,
   "id": "2de33808",
   "metadata": {
    "execution": {
     "iopub.execute_input": "2022-12-11T06:44:51.921948Z",
     "iopub.status.busy": "2022-12-11T06:44:51.921522Z",
     "iopub.status.idle": "2022-12-11T06:44:52.656333Z",
     "shell.execute_reply": "2022-12-11T06:44:52.655466Z"
    },
    "papermill": {
     "duration": 0.740812,
     "end_time": "2022-12-11T06:44:52.658786",
     "exception": false,
     "start_time": "2022-12-11T06:44:51.917974",
     "status": "completed"
    },
    "tags": []
   },
   "outputs": [],
   "source": [
    "data = np.array(raw_data_train)\n",
    "\n",
    "# m = amount of rows aka # of images we have \n",
    "# n = number of pixels + 1 (label)\n",
    "m, n = data.shape\n",
    "np.random.shuffle(data) # shuffle before splitting into dev and t\n",
    "\n",
    "# take data and transpose it so that each column is an image\n",
    "# [x1, x2, x3, ... xm]\n",
    "data_dev = raw_data_test[:].T \n",
    "Y_dev = data_dev[0] # label: this is the Y aka the thing to one hot encode \n",
    "X_dev = data_dev[1:n] # actual pixels themselves \n",
    "X_dev = X_dev / 255. #\n",
    "\n",
    "\n",
    "data_train = data[:].T\n",
    "Y_train = data_train[0]\n",
    "X_train = data_train[1:n]\n",
    "X_train = X_train / 255.\n",
    "_,m_train = X_train.shape"
   ]
  },
  {
   "cell_type": "code",
   "execution_count": 7,
   "id": "7861c10f",
   "metadata": {
    "execution": {
     "iopub.execute_input": "2022-12-11T06:44:52.670464Z",
     "iopub.status.busy": "2022-12-11T06:44:52.669871Z",
     "iopub.status.idle": "2022-12-11T06:44:52.682877Z",
     "shell.execute_reply": "2022-12-11T06:44:52.681706Z"
    },
    "papermill": {
     "duration": 0.019404,
     "end_time": "2022-12-11T06:44:52.685501",
     "exception": false,
     "start_time": "2022-12-11T06:44:52.666097",
     "status": "completed"
    },
    "tags": []
   },
   "outputs": [],
   "source": [
    "def init_params():\n",
    "    \"\"\"\n",
    "        intialize the first and second layer's weights and biases \n",
    "        with random values \n",
    "    \"\"\"\n",
    "    W1 = np.random.rand(10, 784) - 0.5\n",
    "    b1 = np.random.rand(10, 1) - 0.5\n",
    "    W2 = np.random.rand(10, 10) - 0.5\n",
    "    b2 = np.random.rand(10, 1) - 0.5\n",
    "    return W1, b1, W2, b2\n",
    "\n",
    "def ReLU(Z):\n",
    "    return np.maximum(Z, 0)\n",
    "\n",
    "def softmax(Z):\n",
    "    A = np.exp(Z) / sum(np.exp(Z))\n",
    "    return A \n",
    "\n",
    "def forward_prop(W1, b1, W2, b2, X):\n",
    "    Z1 = W1.dot(X) + b1\n",
    "    A1 = ReLU(Z1)\n",
    "    Z2 = W2.dot(A1) + b2\n",
    "    A2 = softmax(Z2)\n",
    "    return Z1, A1, Z2, A2\n",
    "\n",
    "def ReLU_deriv(Z):\n",
    "    return Z > 0\n",
    "\n",
    "def one_hot(Y):\n",
    "    one_hot_Y = np.zeros((Y.size, Y.max() + 1))\n",
    "    one_hot_Y[np.arange(Y.size), Y] = 1\n",
    "    one_hot_Y = one_hot_Y.T\n",
    "    return one_hot_Y\n",
    "\n",
    "\n",
    "def backward_prop(Z1, A1, Z2, A2, W1, W2, X, Y):\n",
    "    one_hot_Y = one_hot(Y)\n",
    "    \n",
    "    dZ2 = A2 - one_hot_Y\n",
    "    dW2 = 1 / m * dZ2.dot(A1.T)\n",
    "    db2 = 1 / m * np.sum(dZ2)\n",
    "    \n",
    "    dZ1 = W2.T.dot(dZ2) * ReLU_deriv(Z1)\n",
    "    dW1 = 1 / m * dZ1.dot(X.T)\n",
    "    db1 = 1 / m * np.sum(dZ1)\n",
    "    return dW1, db1, dW2, db2\n",
    "\n",
    "def update_params(W1, b1, W2, b2, dW1, db1, dW2, db2, alpha):\n",
    "    W1 = W1 - alpha * dW1\n",
    "    b1 = b1 - alpha * db1    \n",
    "    W2 = W2 - alpha * dW2  \n",
    "    b2 = b2 - alpha * db2    \n",
    "    return W1, b1, W2, b2"
   ]
  },
  {
   "cell_type": "code",
   "execution_count": 8,
   "id": "22523963",
   "metadata": {
    "execution": {
     "iopub.execute_input": "2022-12-11T06:44:52.692708Z",
     "iopub.status.busy": "2022-12-11T06:44:52.692061Z",
     "iopub.status.idle": "2022-12-11T06:44:52.699693Z",
     "shell.execute_reply": "2022-12-11T06:44:52.698958Z"
    },
    "papermill": {
     "duration": 0.013775,
     "end_time": "2022-12-11T06:44:52.701901",
     "exception": false,
     "start_time": "2022-12-11T06:44:52.688126",
     "status": "completed"
    },
    "tags": []
   },
   "outputs": [],
   "source": [
    "def get_predictions(A2):\n",
    "    return np.argmax(A2, 0)\n",
    "\n",
    "def get_accuracy(predictions, Y):\n",
    "    return np.sum(predictions == Y) / Y.size\n",
    "\n",
    "def gradient_descent(X, Y, alpha, iterations):\n",
    "    W1, b1, W2, b2 = init_params()\n",
    "    for i in range(iterations):\n",
    "        Z1, A1, Z2, A2 = forward_prop(W1, b1, W2, b2, X)\n",
    "        dW1, db1, dW2, db2 = backward_prop(Z1, A1, Z2, A2, W1, W2, X, Y)\n",
    "        W1, b1, W2, b2 = update_params(W1, b1, W2, b2, dW1, db1, dW2, db2, alpha)\n",
    "        if i % 10 == 0:\n",
    "            print(\"Iteration: \", i)\n",
    "            predictions = get_predictions(A2)\n",
    "            print(get_accuracy(predictions, Y))\n",
    "    return W1, b1, W2, b2"
   ]
  },
  {
   "cell_type": "code",
   "execution_count": 9,
   "id": "ca64456c",
   "metadata": {
    "execution": {
     "iopub.execute_input": "2022-12-11T06:44:52.708697Z",
     "iopub.status.busy": "2022-12-11T06:44:52.708108Z",
     "iopub.status.idle": "2022-12-11T06:46:04.420554Z",
     "shell.execute_reply": "2022-12-11T06:46:04.418941Z"
    },
    "papermill": {
     "duration": 71.720563,
     "end_time": "2022-12-11T06:46:04.425052",
     "exception": false,
     "start_time": "2022-12-11T06:44:52.704489",
     "status": "completed"
    },
    "tags": []
   },
   "outputs": [
    {
     "name": "stdout",
     "output_type": "stream",
     "text": [
      "Iteration:  0\n",
      "0.08635714285714285\n",
      "Iteration:  10\n",
      "0.201\n",
      "Iteration:  20\n",
      "0.2839285714285714\n",
      "Iteration:  30\n",
      "0.34014285714285714\n",
      "Iteration:  40\n",
      "0.3904761904761905\n",
      "Iteration:  50\n",
      "0.44192857142857145\n",
      "Iteration:  60\n",
      "0.49326190476190473\n",
      "Iteration:  70\n",
      "0.5394523809523809\n",
      "Iteration:  80\n",
      "0.5793571428571429\n",
      "Iteration:  90\n",
      "0.6133095238095239\n",
      "Iteration:  100\n",
      "0.6418095238095238\n",
      "Iteration:  110\n",
      "0.6653571428571429\n",
      "Iteration:  120\n",
      "0.6836666666666666\n",
      "Iteration:  130\n",
      "0.7012619047619048\n",
      "Iteration:  140\n",
      "0.7159047619047619\n",
      "Iteration:  150\n",
      "0.7292857142857143\n",
      "Iteration:  160\n",
      "0.7408095238095238\n",
      "Iteration:  170\n",
      "0.7509523809523809\n",
      "Iteration:  180\n",
      "0.7599523809523809\n",
      "Iteration:  190\n",
      "0.767547619047619\n",
      "Iteration:  200\n",
      "0.774547619047619\n",
      "Iteration:  210\n",
      "0.780952380952381\n",
      "Iteration:  220\n",
      "0.7876190476190477\n",
      "Iteration:  230\n",
      "0.7930238095238096\n",
      "Iteration:  240\n",
      "0.7985476190476191\n",
      "Iteration:  250\n",
      "0.8034761904761905\n",
      "Iteration:  260\n",
      "0.8077857142857143\n",
      "Iteration:  270\n",
      "0.811047619047619\n",
      "Iteration:  280\n",
      "0.8144761904761905\n",
      "Iteration:  290\n",
      "0.817952380952381\n",
      "Iteration:  300\n",
      "0.8213809523809524\n",
      "Iteration:  310\n",
      "0.8247380952380953\n",
      "Iteration:  320\n",
      "0.8274761904761905\n",
      "Iteration:  330\n",
      "0.8298809523809524\n",
      "Iteration:  340\n",
      "0.8322857142857143\n",
      "Iteration:  350\n",
      "0.8347142857142857\n",
      "Iteration:  360\n",
      "0.8371904761904762\n",
      "Iteration:  370\n",
      "0.8391904761904762\n",
      "Iteration:  380\n",
      "0.8412619047619048\n",
      "Iteration:  390\n",
      "0.8430714285714286\n",
      "Iteration:  400\n",
      "0.8449047619047619\n",
      "Iteration:  410\n",
      "0.8464047619047619\n",
      "Iteration:  420\n",
      "0.8483095238095238\n",
      "Iteration:  430\n",
      "0.8497380952380953\n",
      "Iteration:  440\n",
      "0.8512619047619048\n",
      "Iteration:  450\n",
      "0.853\n",
      "Iteration:  460\n",
      "0.8544285714285714\n",
      "Iteration:  470\n",
      "0.8560476190476191\n",
      "Iteration:  480\n",
      "0.8573571428571428\n",
      "Iteration:  490\n",
      "0.8584285714285714\n"
     ]
    }
   ],
   "source": [
    "W1, b1, W2, b2 = gradient_descent(X_train, Y_train, 0.1, 500)"
   ]
  }
 ],
 "metadata": {
  "kernelspec": {
   "display_name": "Python 3",
   "language": "python",
   "name": "python3"
  },
  "language_info": {
   "codemirror_mode": {
    "name": "ipython",
    "version": 3
   },
   "file_extension": ".py",
   "mimetype": "text/x-python",
   "name": "python",
   "nbconvert_exporter": "python",
   "pygments_lexer": "ipython3",
   "version": "3.8.3"
  },
  "papermill": {
   "default_parameters": {},
   "duration": 86.821188,
   "end_time": "2022-12-11T06:46:05.163342",
   "environment_variables": {},
   "exception": null,
   "input_path": "__notebook__.ipynb",
   "output_path": "__notebook__.ipynb",
   "parameters": {},
   "start_time": "2022-12-11T06:44:38.342154",
   "version": "2.3.4"
  },
  "vscode": {
   "interpreter": {
    "hash": "48caaa1eada30fc2c84391772c5283bd3783bcd7b4c6f6fb634dc1fb898d9e69"
   }
  }
 },
 "nbformat": 4,
 "nbformat_minor": 5
}
